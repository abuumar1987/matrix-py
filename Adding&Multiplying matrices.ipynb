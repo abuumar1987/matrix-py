{
 "cells": [
  {
   "cell_type": "markdown",
   "id": "1ac0cf15-936c-4e8f-a448-1f4810b866b1",
   "metadata": {},
   "source": [
    "# Adding matrices\n",
    "* only !!! M1 == M2"
   ]
  },
  {
   "cell_type": "code",
   "execution_count": 1,
   "id": "3c07f66c-1a9d-4708-bcfd-c38918c5d0f0",
   "metadata": {
    "tags": []
   },
   "outputs": [],
   "source": [
    "import random"
   ]
  },
  {
   "cell_type": "code",
   "execution_count": 2,
   "id": "9280796c-3d13-4dd2-8027-6b32c541d676",
   "metadata": {
    "tags": []
   },
   "outputs": [],
   "source": [
    "def PrintMatrix(M):\n",
    "    for row in range(len(M)):\n",
    "        for column in range(len(M[0])):\n",
    "            print(\"%3d\"%M[row][column],end=(\" \"))\n",
    "        print()   "
   ]
  },
  {
   "cell_type": "code",
   "execution_count": 3,
   "id": "03ac7942-10fc-4848-9989-3ec2f34659ed",
   "metadata": {
    "tags": []
   },
   "outputs": [],
   "source": [
    "def CreatRandomMatrix(m,n):    \n",
    "    matrix=[[random.randint(1,9) for i in range(n)] for j in range(m)]\n",
    "    return matrix"
   ]
  },
  {
   "cell_type": "code",
   "execution_count": null,
   "id": "111eed33-88f8-4190-8b02-677ee27e69a7",
   "metadata": {
    "tags": []
   },
   "outputs": [],
   "source": [
    "m=int(input('Please enter a number of rows: '))\n",
    "n=int(input('Please enter a number of columns: '))\n",
    "print(); print('input: ')\n",
    "X = CreatRandomMatrix(m,n)\n",
    "PrintMatrix(X); print()\n",
    "Y = CreatRandomMatrix(m,n)\n",
    "PrintMatrix(Y); print()\n",
    "M = [[0]*n for i in range(m)] # creating a zero matrix as sum matrix of two matrices\n",
    "for row in range(m):\n",
    "    for column in range(n):\n",
    "        M[row][column] = X[row][column] + Y[row][column]\n",
    "print('Output: ')\n",
    "PrintMatrix(M)        "
   ]
  },
  {
   "cell_type": "markdown",
   "id": "98cafc2a-4a5b-466a-958c-b2e58d4152d6",
   "metadata": {},
   "source": [
    "# Multiplying matrices\n",
    "* Please pay a special attention !!!==>> M1 x M2 != M2 x M1"
   ]
  },
  {
   "cell_type": "code",
   "execution_count": null,
   "id": "ab075d67-7584-4ec7-a76f-1e190c058d19",
   "metadata": {
    "tags": []
   },
   "outputs": [],
   "source": [
    "'''Multiplying X matrix to Y matrix (not Y to X !!!)'''\n",
    "m = int(input('Please enter a number of rows for 1-matrix: '))\n",
    "n = int(input('Please enter a number of columns for 2-matrix:: '))\n",
    "p = int(input('Please enter a number of columns of 1-matrix (number of rows for 2-matrix): '))\n",
    "print('Input: ')\n",
    "X = CreatRandomMatrix(m,p)\n",
    "PrintMatrix(X); print()\n",
    "Y = CreatRandomMatrix(p,n)\n",
    "PrintMatrix(Y); print()\n",
    "M = [[0]*n for i in range(m)] # creating m x n zero matrix\n",
    "for i in range(m):    \n",
    "    for j in range(n):\n",
    "        M[i][j]=0\n",
    "        for k in range(p):\n",
    "            M[i][j] += X[i][k]*Y[k][j]            \n",
    "print('Output: ')\n",
    "PrintMatrix(M)"
   ]
  },
  {
   "cell_type": "code",
   "execution_count": null,
   "id": "5718fc9c-822a-4723-b984-2251b4c70590",
   "metadata": {},
   "outputs": [],
   "source": []
  }
 ],
 "metadata": {
  "kernelspec": {
   "display_name": "Python 3 (ipykernel)",
   "language": "python",
   "name": "python3"
  },
  "language_info": {
   "codemirror_mode": {
    "name": "ipython",
    "version": 3
   },
   "file_extension": ".py",
   "mimetype": "text/x-python",
   "name": "python",
   "nbconvert_exporter": "python",
   "pygments_lexer": "ipython3",
   "version": "3.11.1"
  }
 },
 "nbformat": 4,
 "nbformat_minor": 5
}
