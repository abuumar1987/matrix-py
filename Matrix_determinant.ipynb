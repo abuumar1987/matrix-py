{
 "cells": [
  {
   "cell_type": "markdown",
   "id": "7b827127-7961-474f-89cf-cdbe806c02d8",
   "metadata": {},
   "source": [
    "# Calculation of determinant of matrix & finding an inverse matrix"
   ]
  },
  {
   "cell_type": "code",
   "execution_count": 2,
   "id": "95f258f7-acad-45c8-82f0-416116b9b7e0",
   "metadata": {},
   "outputs": [],
   "source": [
    "import random"
   ]
  },
  {
   "cell_type": "code",
   "execution_count": 3,
   "id": "37e6654b-9ca7-4bc8-a75f-44d6aa41316c",
   "metadata": {
    "tags": []
   },
   "outputs": [],
   "source": [
    "def CreatRandomMatrix(m,n):    \n",
    "    matrix=[[random.randint(0,9) for i in range(n)] for j in range(m)]\n",
    "    return matrix"
   ]
  },
  {
   "cell_type": "code",
   "execution_count": 6,
   "id": "a871ed87-9ac6-49ff-9170-6c37b2a1d5e4",
   "metadata": {
    "tags": []
   },
   "outputs": [],
   "source": [
    "def PrintMatrix(M):\n",
    "    for row in range(len(M)):\n",
    "        for column in range(len(M[0])):\n",
    "            print(\"%3d\"%M[row][column],end=(\" \")) # for int format\n",
    "        print()   "
   ]
  },
  {
   "cell_type": "code",
   "execution_count": 29,
   "id": "707aea90-1ac7-4d2f-9bf9-0d38677cd92e",
   "metadata": {},
   "outputs": [],
   "source": [
    "def PrintMatrixFloat(M):\n",
    "    for row in range(len(M)):\n",
    "        for column in range(len(M[0])):\n",
    "            print(\"%6.2f\"%M[row][column],end=(\" \")) # for float format\n",
    "        print()  "
   ]
  },
  {
   "cell_type": "code",
   "execution_count": null,
   "id": "6986f744-fe68-467c-b83d-e13094194c87",
   "metadata": {
    "tags": []
   },
   "outputs": [],
   "source": [
    "import copy\n",
    "def findMinor (W,i,j):\n",
    "    ''' Calculating minor for an element of determinant'''\n",
    "    X = copy.deepcopy(W)\n",
    "    X.pop(i)\n",
    "    for row in X:\n",
    "        row.pop(j)\n",
    "    return X\n",
    "n = int(input('n = '))\n",
    "X = CreatRandomMatrix (n,n)\n",
    "PrintMatrix (X)\n",
    "print()\n",
    "result = findMinor (X,0,0)\n",
    "PrintMatrix (result)"
   ]
  },
  {
   "cell_type": "code",
   "execution_count": null,
   "id": "eb1e21b5-956b-4e9d-af32-b709d7f6d0f8",
   "metadata": {
    "tags": []
   },
   "outputs": [],
   "source": [
    "def deterEvaluation (M):\n",
    "    '''Calcalating value of determinant for matrix'''    \n",
    "    # to check for square matrix\n",
    "    len_row = len(M)\n",
    "    for row in M:\n",
    "        if len_row != len(row):\n",
    "            print('Not square matrix!')\n",
    "            return None    \n",
    "    # setting base case\n",
    "    if len(M) == 2:\n",
    "        a, b = M[0]\n",
    "        c, d = M[1]\n",
    "        minor = a * d - b * c # value of determinant for 2x2 matrix\n",
    "        return minor    \n",
    "    # creating a recursive case\n",
    "    else:\n",
    "        deter_value = 0 # value of determinat \n",
    "        len_column = len_row # len of column\n",
    "        for column in range(len_column):\n",
    "            minor_M = findMinor (M,0,column)            \n",
    "            # finding a cofactor\n",
    "            cofactor = (-1)** (0 + column) * deterEvaluation (minor_M)            \n",
    "            # calculating a determinant value\n",
    "            deter_value += M[0][column] * cofactor \n",
    "        return deter_value\n",
    "n = int(input('n= '))\n",
    "M = CreatRandomMatrix (n,n)\n",
    "PrintMatrix(M)\n",
    "print(deterEvaluation (M))"
   ]
  },
  {
   "cell_type": "code",
   "execution_count": null,
   "id": "d7fca31a-7860-4519-b488-7fa69b6a772b",
   "metadata": {},
   "outputs": [],
   "source": [
    "import copy  \n",
    "new_M = copy.deepcopy(M)\n",
    "def inverseMatrix (M):\n",
    "    '''Finding an inverse matrix ( M(-1) = 1/detM * M )'''\n",
    "    # finding a value of determinant\n",
    "    detM = deterEvaluation (M)\n",
    "    print(detM)\n",
    "    # cecking for square matrix\n",
    "    len_row = len(M)\n",
    "    for row in M:\n",
    "        if len_row != len(row):\n",
    "            print('Usbu matritsa kvadrat matritsa emas!')\n",
    "            return None    \n",
    "    # base case\n",
    "    if len(M) == 2:\n",
    "        a, b = M[0]\n",
    "        c, d = M[1]\n",
    "        new_M[0] = round(d / deterEvaluation (M), 2) , round(-b / deterEvaluation (M), 2)\n",
    "        new_M[1] = round(-c / deterEvaluation (M), 2), round(a / deterEvaluation (M), 2)     \n",
    "        return new_M    \n",
    "    # recursive case\n",
    "    else:\n",
    "        len_column = len_row # len of matrix\n",
    "        for row in range(len_row):\n",
    "            for column in range(len_column):\n",
    "                minor_M = findMinor (M,row,column)            \n",
    "                # finding a cofactor\n",
    "                cofactor = (-1)** (row + column) * deterEvaluation (minor_M)\n",
    "                new_M[column][row] = round (cofactor/detM, 3)\n",
    "        return new_M  \n",
    "n = int(input('n= '))\n",
    "M = CreatRandomMatrix (n,n)\n",
    "PrintMatrixFloat(M)\n",
    "print()\n",
    "PrintMatrixFloat(inverseMatrix (M))"
   ]
  },
  {
   "cell_type": "code",
   "execution_count": null,
   "id": "19140bab-db9c-41f2-8ffe-b1fbe4633bec",
   "metadata": {
    "tags": []
   },
   "outputs": [],
   "source": [
    "# checking for identity matrix ( M x M(-1) = I )\n",
    "print('Input: ')\n",
    "X = [[3, 5, 3], [6, 3, 8], [9, 6, 2]]\n",
    "PrintMatrix(X); print()\n",
    "Y = [[-0.209, 0.04, 0.154], [0.299, -0.104, -0.03], [0.045, 0.134, -0.104]]\n",
    "PrintMatrix(Y); print()\n",
    "M = [[0]*n for i in range(len(X))] \n",
    "for i in range(len(X)):    \n",
    "    for j in range(len(Y)):\n",
    "        M[i][j]=0\n",
    "        for k in range(len(X)):\n",
    "            M[i][j] += X[i][k]*Y[k][j]            \n",
    "print('Output: ')\n",
    "PrintMatrix(M)"
   ]
  },
  {
   "cell_type": "code",
   "execution_count": null,
   "id": "ff32552b-f7fe-4798-a210-3b6288553774",
   "metadata": {},
   "outputs": [],
   "source": []
  }
 ],
 "metadata": {
  "kernelspec": {
   "display_name": "Python 3 (ipykernel)",
   "language": "python",
   "name": "python3"
  },
  "language_info": {
   "codemirror_mode": {
    "name": "ipython",
    "version": 3
   },
   "file_extension": ".py",
   "mimetype": "text/x-python",
   "name": "python",
   "nbconvert_exporter": "python",
   "pygments_lexer": "ipython3",
   "version": "3.11.1"
  }
 },
 "nbformat": 4,
 "nbformat_minor": 5
}
